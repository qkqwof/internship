{
 "cells": [
  {
   "cell_type": "code",
   "execution_count": 1,
   "metadata": {},
   "outputs": [],
   "source": [
    "import pandas as pd"
   ]
  },
  {
   "cell_type": "code",
   "execution_count": 17,
   "metadata": {},
   "outputs": [
    {
     "data": {
      "text/html": [
       "<div>\n",
       "<style scoped>\n",
       "    .dataframe tbody tr th:only-of-type {\n",
       "        vertical-align: middle;\n",
       "    }\n",
       "\n",
       "    .dataframe tbody tr th {\n",
       "        vertical-align: top;\n",
       "    }\n",
       "\n",
       "    .dataframe thead th {\n",
       "        text-align: right;\n",
       "    }\n",
       "</style>\n",
       "<table border=\"1\" class=\"dataframe\">\n",
       "  <thead>\n",
       "    <tr style=\"text-align: right;\">\n",
       "      <th></th>\n",
       "      <th>emd_nm</th>\n",
       "      <th>WiFi 접속자수</th>\n",
       "      <th>카드이용자수</th>\n",
       "      <th>자동차등록수</th>\n",
       "      <th>사업체수</th>\n",
       "      <th>총인구수</th>\n",
       "      <th>면수</th>\n",
       "    </tr>\n",
       "  </thead>\n",
       "  <tbody>\n",
       "    <tr>\n",
       "      <th>0</th>\n",
       "      <td>건입동</td>\n",
       "      <td>1018933</td>\n",
       "      <td>763641</td>\n",
       "      <td>4279</td>\n",
       "      <td>750</td>\n",
       "      <td>9857</td>\n",
       "      <td>370</td>\n",
       "    </tr>\n",
       "    <tr>\n",
       "      <th>1</th>\n",
       "      <td>구좌읍</td>\n",
       "      <td>565136</td>\n",
       "      <td>952715</td>\n",
       "      <td>9161</td>\n",
       "      <td>1738</td>\n",
       "      <td>16283</td>\n",
       "      <td>4</td>\n",
       "    </tr>\n",
       "  </tbody>\n",
       "</table>\n",
       "</div>"
      ],
      "text/plain": [
       "  emd_nm  WiFi 접속자수  카드이용자수             자동차등록수  사업체수   총인구수   면수\n",
       "0    건입동    1018933             763641    4279   750   9857  370\n",
       "1    구좌읍     565136             952715    9161  1738  16283    4"
      ]
     },
     "execution_count": 17,
     "metadata": {},
     "output_type": "execute_result"
    }
   ],
   "source": [
    "df = pd.read_csv('버스.csv', encoding = 'euc_kr')\n",
    "df1 = pd.read_csv('유동인구.csv', encoding = 'euc_kr')\n",
    "df2 = pd.read_csv('수정.csv', encoding = 'euc_kr')"
   ]
  },
  {
   "cell_type": "code",
   "execution_count": 8,
   "metadata": {},
   "outputs": [
    {
     "data": {
      "text/plain": [
       "0      [제주시, 건입동]\n",
       "1      [제주시, 구좌읍]\n",
       "2      [제주시, 노형동]\n",
       "3      [제주시, 도두동]\n",
       "4      [제주시, 봉개동]\n",
       "5     [제주시, 삼도1동]\n",
       "6     [제주시, 삼도2동]\n",
       "7      [제주시, 삼양동]\n",
       "8      [제주시, 아라동]\n",
       "9      [제주시, 애월읍]\n",
       "10      [제주시, 연동]\n",
       "11     [제주시, 오라동]\n",
       "12     [제주시, 외도동]\n",
       "13    [제주시, 용담1동]\n",
       "14    [제주시, 용담2동]\n",
       "15     [제주시, 우도면]\n",
       "16    [제주시, 이도1동]\n",
       "17    [제주시, 이도2동]\n",
       "18     [제주시, 이호동]\n",
       "19    [제주시, 일도1동]\n",
       "20    [제주시, 일도2동]\n",
       "21     [제주시, 조천읍]\n",
       "22     [제주시, 추자면]\n",
       "23     [제주시, 한경면]\n",
       "24     [제주시, 한림읍]\n",
       "25     [제주시, 화북동]\n",
       "Name: emd_nm, dtype: object"
      ]
     },
     "execution_count": 8,
     "metadata": {},
     "output_type": "execute_result"
    }
   ],
   "source": [
    "a = df1['emd_nm'].str.split(\" \")"
   ]
  },
  {
   "cell_type": "code",
   "execution_count": 23,
   "metadata": {},
   "outputs": [
    {
     "data": {
      "text/html": [
       "<div>\n",
       "<style scoped>\n",
       "    .dataframe tbody tr th:only-of-type {\n",
       "        vertical-align: middle;\n",
       "    }\n",
       "\n",
       "    .dataframe tbody tr th {\n",
       "        vertical-align: top;\n",
       "    }\n",
       "\n",
       "    .dataframe thead th {\n",
       "        text-align: right;\n",
       "    }\n",
       "</style>\n",
       "<table border=\"1\" class=\"dataframe\">\n",
       "  <thead>\n",
       "    <tr style=\"text-align: right;\">\n",
       "      <th></th>\n",
       "      <th>읍면동</th>\n",
       "      <th>mean_유동인구</th>\n",
       "    </tr>\n",
       "  </thead>\n",
       "  <tbody>\n",
       "    <tr>\n",
       "      <th>0</th>\n",
       "      <td>건입동</td>\n",
       "      <td>622605.0</td>\n",
       "    </tr>\n",
       "    <tr>\n",
       "      <th>1</th>\n",
       "      <td>구좌읍</td>\n",
       "      <td>813120.0</td>\n",
       "    </tr>\n",
       "    <tr>\n",
       "      <th>2</th>\n",
       "      <td>노형동</td>\n",
       "      <td>1946520.0</td>\n",
       "    </tr>\n",
       "  </tbody>\n",
       "</table>\n",
       "</div>"
      ],
      "text/plain": [
       "   읍면동  mean_유동인구\n",
       "0  건입동   622605.0\n",
       "1  구좌읍   813120.0\n",
       "2  노형동  1946520.0"
      ]
     },
     "execution_count": 23,
     "metadata": {},
     "output_type": "execute_result"
    }
   ],
   "source": [
    "df1['emd_nm'] = a.str[1]\n",
    "df1.rename(columns = {'emd_nm' : '읍면동'}, inplace = True)\n",
    "df1.head(3)"
   ]
  },
  {
   "cell_type": "code",
   "execution_count": 27,
   "metadata": {},
   "outputs": [
    {
     "data": {
      "text/html": [
       "<div>\n",
       "<style scoped>\n",
       "    .dataframe tbody tr th:only-of-type {\n",
       "        vertical-align: middle;\n",
       "    }\n",
       "\n",
       "    .dataframe tbody tr th {\n",
       "        vertical-align: top;\n",
       "    }\n",
       "\n",
       "    .dataframe thead th {\n",
       "        text-align: right;\n",
       "    }\n",
       "</style>\n",
       "<table border=\"1\" class=\"dataframe\">\n",
       "  <thead>\n",
       "    <tr style=\"text-align: right;\">\n",
       "      <th></th>\n",
       "      <th>읍면동</th>\n",
       "      <th>mean_유동인구</th>\n",
       "      <th>mean_버스</th>\n",
       "      <th>면수</th>\n",
       "    </tr>\n",
       "  </thead>\n",
       "  <tbody>\n",
       "    <tr>\n",
       "      <th>0</th>\n",
       "      <td>건입동</td>\n",
       "      <td>622605.0</td>\n",
       "      <td>54904</td>\n",
       "      <td>370</td>\n",
       "    </tr>\n",
       "    <tr>\n",
       "      <th>1</th>\n",
       "      <td>구좌읍</td>\n",
       "      <td>813120.0</td>\n",
       "      <td>80489</td>\n",
       "      <td>4</td>\n",
       "    </tr>\n",
       "    <tr>\n",
       "      <th>2</th>\n",
       "      <td>노형동</td>\n",
       "      <td>1946520.0</td>\n",
       "      <td>321138</td>\n",
       "      <td>1587</td>\n",
       "    </tr>\n",
       "  </tbody>\n",
       "</table>\n",
       "</div>"
      ],
      "text/plain": [
       "   읍면동  mean_유동인구  mean_버스    면수\n",
       "0  건입동   622605.0    54904   370\n",
       "1  구좌읍   813120.0    80489     4\n",
       "2  노형동  1946520.0   321138  1587"
      ]
     },
     "execution_count": 27,
     "metadata": {},
     "output_type": "execute_result"
    }
   ],
   "source": [
    "combine = pd.concat([df1, df['mean_버스'], df2['면수']], axis = 1)\n",
    "combine.head(3)"
   ]
  },
  {
   "cell_type": "code",
   "execution_count": 28,
   "metadata": {},
   "outputs": [
    {
     "data": {
      "text/html": [
       "<div>\n",
       "<style scoped>\n",
       "    .dataframe tbody tr th:only-of-type {\n",
       "        vertical-align: middle;\n",
       "    }\n",
       "\n",
       "    .dataframe tbody tr th {\n",
       "        vertical-align: top;\n",
       "    }\n",
       "\n",
       "    .dataframe thead th {\n",
       "        text-align: right;\n",
       "    }\n",
       "</style>\n",
       "<table border=\"1\" class=\"dataframe\">\n",
       "  <thead>\n",
       "    <tr style=\"text-align: right;\">\n",
       "      <th></th>\n",
       "      <th>읍면동</th>\n",
       "      <th>mean_유동인구</th>\n",
       "      <th>mean_버스</th>\n",
       "      <th>면수</th>\n",
       "      <th>주차수요량</th>\n",
       "    </tr>\n",
       "  </thead>\n",
       "  <tbody>\n",
       "    <tr>\n",
       "      <th>0</th>\n",
       "      <td>건입동</td>\n",
       "      <td>622605.0</td>\n",
       "      <td>54904</td>\n",
       "      <td>370</td>\n",
       "      <td>113170.0</td>\n",
       "    </tr>\n",
       "    <tr>\n",
       "      <th>1</th>\n",
       "      <td>구좌읍</td>\n",
       "      <td>813120.0</td>\n",
       "      <td>80489</td>\n",
       "      <td>4</td>\n",
       "      <td>146522.0</td>\n",
       "    </tr>\n",
       "    <tr>\n",
       "      <th>2</th>\n",
       "      <td>노형동</td>\n",
       "      <td>1946520.0</td>\n",
       "      <td>321138</td>\n",
       "      <td>1587</td>\n",
       "      <td>323489.0</td>\n",
       "    </tr>\n",
       "  </tbody>\n",
       "</table>\n",
       "</div>"
      ],
      "text/plain": [
       "   읍면동  mean_유동인구  mean_버스    면수     주차수요량\n",
       "0  건입동   622605.0    54904   370  113170.0\n",
       "1  구좌읍   813120.0    80489     4  146522.0\n",
       "2  노형동  1946520.0   321138  1587  323489.0"
      ]
     },
     "execution_count": 28,
     "metadata": {},
     "output_type": "execute_result"
    }
   ],
   "source": [
    "combine['주차수요량'] = round((combine['mean_유동인구']-combine['mean_버스'])/5)-combine['면수']\n",
    "combine.head(3)"
   ]
  },
  {
   "cell_type": "code",
   "execution_count": 29,
   "metadata": {},
   "outputs": [
    {
     "data": {
      "text/html": [
       "<div>\n",
       "<style scoped>\n",
       "    .dataframe tbody tr th:only-of-type {\n",
       "        vertical-align: middle;\n",
       "    }\n",
       "\n",
       "    .dataframe tbody tr th {\n",
       "        vertical-align: top;\n",
       "    }\n",
       "\n",
       "    .dataframe thead th {\n",
       "        text-align: right;\n",
       "    }\n",
       "</style>\n",
       "<table border=\"1\" class=\"dataframe\">\n",
       "  <thead>\n",
       "    <tr style=\"text-align: right;\">\n",
       "      <th></th>\n",
       "      <th>읍면동</th>\n",
       "      <th>주차수요량</th>\n",
       "    </tr>\n",
       "  </thead>\n",
       "  <tbody>\n",
       "    <tr>\n",
       "      <th>0</th>\n",
       "      <td>건입동</td>\n",
       "      <td>113170.0</td>\n",
       "    </tr>\n",
       "    <tr>\n",
       "      <th>1</th>\n",
       "      <td>구좌읍</td>\n",
       "      <td>146522.0</td>\n",
       "    </tr>\n",
       "    <tr>\n",
       "      <th>2</th>\n",
       "      <td>노형동</td>\n",
       "      <td>323489.0</td>\n",
       "    </tr>\n",
       "  </tbody>\n",
       "</table>\n",
       "</div>"
      ],
      "text/plain": [
       "   읍면동     주차수요량\n",
       "0  건입동  113170.0\n",
       "1  구좌읍  146522.0\n",
       "2  노형동  323489.0"
      ]
     },
     "execution_count": 29,
     "metadata": {},
     "output_type": "execute_result"
    }
   ],
   "source": [
    "주차수요량 = combine.loc[:, ['읍면동', '주차수요량']]\n",
    "주차수요량.head(3)"
   ]
  },
  {
   "cell_type": "code",
   "execution_count": 30,
   "metadata": {},
   "outputs": [],
   "source": [
    "주차수요량.to_csv('주차수요량_기준5대.csv', encoding = 'euc_kr')"
   ]
  }
 ],
 "metadata": {
  "kernelspec": {
   "display_name": "Python 3",
   "language": "python",
   "name": "python3"
  },
  "language_info": {
   "codemirror_mode": {
    "name": "ipython",
    "version": 3
   },
   "file_extension": ".py",
   "mimetype": "text/x-python",
   "name": "python",
   "nbconvert_exporter": "python",
   "pygments_lexer": "ipython3",
   "version": "3.8.3"
  },
  "toc": {
   "base_numbering": 1,
   "nav_menu": {},
   "number_sections": true,
   "sideBar": true,
   "skip_h1_title": false,
   "title_cell": "Table of Contents",
   "title_sidebar": "Contents",
   "toc_cell": false,
   "toc_position": {},
   "toc_section_display": true,
   "toc_window_display": false
  }
 },
 "nbformat": 4,
 "nbformat_minor": 4
}
